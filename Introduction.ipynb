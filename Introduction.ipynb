{
 "cells": [
  {
   "cell_type": "markdown",
   "metadata": {},
   "source": [
    "# Introduction\n",
    "\n",
    "# Key Topics\n",
    "\n",
    "#### Probability\n",
    "#### Statistics \n",
    "    - Hypothesis testing\n",
    "    - monte carlo methods\n",
    "\n",
    "## Supervised learning\n",
    "\n",
    "### Regression\n",
    "#### success metrics\n",
    "#### Linear regression deep dive. explain loss functions...\n",
    "\n",
    "### Classification\n",
    "#### success metrics\n",
    "\n",
    "### Algorithms\n",
    "    - linear regression\n",
    "    - logistic regression\n",
    "    - decision trees\n",
    "    - random forests\n",
    "    - bayesian \n",
    "    - SVM\n",
    "\n",
    "    - basic neural nets\n",
    "\n",
    "## Unsupervised learning\n",
    "### Algorithms\n",
    "    - K-means clustering\n",
    "    - entity embeddings\n",
    "\n",
    "\n",
    "## Problems\n",
    "\n",
    "#### Demand forcasting\n",
    "#### Recommendation engine\n",
    "    - collaborative filter\n",
    "    - embeddings\n",
    "#### RFM and segmentaion\n",
    "    - Little bit on lifelines/fitting probability distributions\n",
    "\n",
    "\n",
    "## MSC. algs\n",
    "    - PCA/other dimension reducing techniques\n",
    "    \n",
    "\n",
    "\n",
    "## Common interview questions\n",
    "#### solution for overfitting\n",
    "#### variance bias trade off\n",
    "#### type1 vs type2 errors\n",
    "#### curse of dimensionality\n",
    "#### ROC curve\n",
    "#### Kernal trick\n",
    "#### regularization of features\n",
    "\n",
    "https://elitedatascience.com/machine-learning-interview-questions-answers\n",
    "https://www.springboard.com/blog/machine-learning-interview-questions/\n",
    "https://www.edureka.co/blog/interview-questions/machine-learning-interview-questions/\n",
    "https://www.simplilearn.com/machine-learning-interview-questions-and-answers-article\n",
    "https://www.geeksforgeeks.org/10-basic-machine-learning-interview-questions/\n",
    "\n",
    "\n",
    "\n",
    "\n",
    "\n",
    "\n",
    "# Coding\n",
    "    - Apply functions"
   ]
  },
  {
   "cell_type": "code",
   "execution_count": null,
   "metadata": {
    "collapsed": true
   },
   "outputs": [],
   "source": []
  },
  {
   "cell_type": "code",
   "execution_count": null,
   "metadata": {
    "collapsed": true
   },
   "outputs": [],
   "source": []
  },
  {
   "cell_type": "code",
   "execution_count": null,
   "metadata": {
    "collapsed": true
   },
   "outputs": [],
   "source": []
  },
  {
   "cell_type": "code",
   "execution_count": null,
   "metadata": {
    "collapsed": true
   },
   "outputs": [],
   "source": []
  }
 ],
 "metadata": {
  "kernelspec": {
   "display_name": "Python 3",
   "language": "python",
   "name": "python3"
  },
  "language_info": {
   "codemirror_mode": {
    "name": "ipython",
    "version": 3
   },
   "file_extension": ".py",
   "mimetype": "text/x-python",
   "name": "python",
   "nbconvert_exporter": "python",
   "pygments_lexer": "ipython3",
   "version": "3.6.1"
  }
 },
 "nbformat": 4,
 "nbformat_minor": 2
}
